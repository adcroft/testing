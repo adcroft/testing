{
 "cells": [
  {
   "cell_type": "markdown",
   "metadata": {},
   "source": [
    "# Cheat sheet for using a mosaic grid with MOM6 output\n"
   ]
  },
  {
   "cell_type": "code",
   "execution_count": null,
   "metadata": {
    "collapsed": false
   },
   "outputs": [],
   "source": [
    "import netCDF4, numpy, matplotlib.pyplot as plt\n",
    "%matplotlib inline\n",
    "plt.xkcd();"
   ]
  },
  {
   "cell_type": "code",
   "execution_count": null,
   "metadata": {
    "collapsed": false,
    "scrolled": false
   },
   "outputs": [],
   "source": [
    "# Figure 1\n",
    "plt.axis((0,100,0,100)); plt.plot([10,90,90,10,10],[10,10,90,90,10],'k')\n",
    "text_opts={'horizontalalignment':'center','verticalalignment':'center','backgroundcolor':'w'}\n",
    "plt.text(50,50,'h$_{i,j}$',text_opts)\n",
    "plt.text(10,10,'q$_{i-1,j-1}$',text_opts); plt.text(10,90,'q$_{i-1,j}$',text_opts)\n",
    "plt.text(90,10,'q$_{i,j-1}$',text_opts); plt.text(90,90,'q$_{i,j}$',text_opts)\n",
    "plt.text(10,50,'u$_{i-1,j}$',text_opts); plt.text(90,50,'u$_{i,j}$',text_opts)\n",
    "plt.text(50,10,'v$_{i,j-1}$',text_opts); plt.text(50,90,'v$_{i,j}$',text_opts)\n",
    "plt.axis('off'); plt.title('Fig 1: Arakawa C-grid of variables around an\\nh-cell with North-East indexing convention');"
   ]
  },
  {
   "cell_type": "markdown",
   "metadata": {},
   "source": [
    "## The FMS indexing convention (horizontal indices)\n",
    "\n",
    "The MOM6 model uses an **Arakawa C-grid** for staggering/locating model variables and a **North-East indexing convention**, illustrated in the Fig. 1 above.\n",
    "- This indexing concerns the horizontal directions only.\n",
    "- The North-East convention means that all variables with an `i,j` index are either co-located with, or are placed to the north, east or north-east of, the $h_{i,j}$ point.\n",
    "- An `h`-point is at the \"center\" of a continuity cell which governs the budget for mass and tracers. All advected tracers (e.g. potential temperature, salinity, bio-geochemical tracers, ...) are thus co-located with cell thickness, $h$."
   ]
  },
  {
   "cell_type": "code",
   "execution_count": null,
   "metadata": {
    "collapsed": false
   },
   "outputs": [],
   "source": [
    "# Figure 2\n",
    "plt.axis((0,100,0,100)); plt.plot([10,90,90,10,10],[10,10,90,90,10],'k')\n",
    "text_opts={'horizontalalignment':'center','verticalalignment':'center','backgroundcolor':'w'}\n",
    "plt.text(50,50,'h$_{i,j}$',text_opts)\n",
    "plt.text(10,10,'q',text_opts); plt.text(10,90,'q',text_opts)\n",
    "plt.text(90,10,'q',text_opts); plt.text(90,90,'q',text_opts)\n",
    "plt.text(13,50,'u$_{i-1,j}$',text_opts); plt.text(90,50,'u$_{i,j}$',text_opts)\n",
    "plt.text(50,10,'v$_{i,j-1}$',text_opts); plt.text(50,90,'v$_{i,j}$',text_opts)\n",
    "def myarrow(x1,x2,y1,y2,lab,a=0.5):\n",
    "    b=1-a; plt.arrow(a*x1+b*x2,a*y1+b*y2,x2-a*x1-b*x2,y2-a*y1-b*y2,length_includes_head=True,head_width=4)\n",
    "    plt.arrow(a*x1+b*x2,a*y1+b*y2,x1-a*x1-b*x2,y1-a*y1-b*y2,length_includes_head=True,head_width=4)\n",
    "    plt.text(a*x1+b*x2,a*y1+b*y2,lab,text_opts)\n",
    "myarrow(10,90,40,40,'$\\Delta$x$_h$'); myarrow(40,40,10,90,'$\\Delta$y$_h$')\n",
    "myarrow(4,4,10,90,'$\\Delta$y$_u$',a=.35); myarrow(96,96,10,90,'$\\Delta$y$_u$',a=.4)\n",
    "myarrow(10,90,4,4,'$\\Delta$x$_v$'); myarrow(10,90,96,96,'$\\Delta$x$_v$',a=.6)\n",
    "plt.axis('off'); plt.title('Fig 2a: Arakawa C-grid of variables around an\\nh-cell with labelled grid metrics');\n",
    "plt.figure()\n",
    "plt.axis((0,100,0,100)); plt.plot([10,90,90,10,10],[10,10,90,90,10],'k')\n",
    "text_opts={'horizontalalignment':'center','verticalalignment':'center','backgroundcolor':'w'}\n",
    "plt.text(50,50,'q$_{i,j}$',text_opts)\n",
    "plt.text(10,10,'h',text_opts); plt.text(10,90,'h',text_opts)\n",
    "plt.text(90,10,'h',text_opts); plt.text(90,90,'h',text_opts)\n",
    "plt.text(10,50,'v$_{i,j}$',text_opts); plt.text(87,50,'v$_{i,j+1}$',text_opts)\n",
    "plt.text(50,10,'u$_{i,j}$',text_opts); plt.text(50,90,'u$_{i+1,j}$',text_opts)\n",
    "plt.axis('off'); plt.title('Fig 2b: Arakawa C-grid of variables around a q-cell\\nwith labelled grid metrics (shifted wrt Fig 2a)');\n",
    "myarrow(10,90,40,40,'$\\Delta$x$_q$'); myarrow(40,40,10,90,'$\\Delta$y$_q$')\n",
    "myarrow(4,4,10,90,'$\\Delta$y$_v$',a=.35); myarrow(96,96,10,90,'$\\Delta$y$_v$',a=.4)\n",
    "myarrow(10,90,4,4,'$\\Delta$x$_u$'); myarrow(10,90,96,96,'$\\Delta$x$_u$',a=.7)"
   ]
  },
  {
   "cell_type": "markdown",
   "metadata": {},
   "source": [
    "The model, and analyses of model output, often require grid metrics that depend on locations within the staggered grid:\n",
    "- Distance between the a variables location, e.g. distance between u-points, between v-points, ...;\n",
    "- Area of cell centered on a variable, e.g. h-cell area which is that bounded by the q-points.\n",
    "\n",
    "The eight most widely used distances are shown in Fig. 2a and 2b. Note that Fig. 2b is shifted a half-cell diagnonally with respect to Fig. 2a.\n",
    "\n",
    "> ### Comment on why we use Mosaics\n",
    "> Defining all of these metrics at each location led to the old grid-specification having numerous variables, with possibly ambiguous names, that meant subtlely different things, e.g. dx_u might have been the distance between u-points, which on a regular spherical grid would contain similar values to dx_h, the distance between h-points. In these old specification it was very easy to use the wrong variable just due to naming conventions. Further, naming metrics by variable location depends on whether a grid specificatino is to be used for a C-grid or a B-grid."
   ]
  },
  {
   "cell_type": "code",
   "execution_count": null,
   "metadata": {
    "collapsed": false
   },
   "outputs": [],
   "source": [
    "# Figure 3\n",
    "nan = numpy.nan\n",
    "plt.axis((0,100,0,100)); plt.plot([10,90,90,10,10,nan,10,90,nan,50,50],[10,10,90,90,10,nan,50,50,nan,10,90],'k')\n",
    "text_opts={'horizontalalignment':'center','verticalalignment':'center','backgroundcolor':'w'}\n",
    "for y in [10,50,90]:\n",
    "    for x in [10,50,90]:\n",
    "        plt.text(x,y,'x,y',text_opts)\n",
    "    for x in [30,70]:\n",
    "        plt.text(x,y,'$\\Delta$x',text_opts)\n",
    "for y in [30,70]:\n",
    "    for x in [10,50,90]:\n",
    "        plt.text(x,y,'$\\Delta$y',text_opts)\n",
    "    for x in [30,70]:\n",
    "        plt.text(x,y,'A',text_opts)\n",
    "plt.axis('off'); plt.title('Fig 3: Four mosaic cells corresponding\\nto a single model h-cell');"
   ]
  },
  {
   "cell_type": "markdown",
   "metadata": {},
   "source": [
    "## Mosaic grid specification\n",
    "\n",
    "A mosaic grid specification makes use of a \"supergrid\" which is a simple grid which is an integer refinement of the target model grid. The grid specification provides the bare minimum metrics for the supergrid cells which can be combined by aggregation to obtain the appropriate metrics for the model grid. A logically rectangular grid (LRG) mosaic specification will contain\n",
    "- `ni` - Number of columns in x-direction\n",
    "- `nj` - Number of rows in y-direction\n",
    "- `x[nj+1,ni+1]` - x-coordinate of the grid vertices\n",
    "- `y[nj+1,ni+1]` - y-coordinate of the grid vertices\n",
    "- `area[nj,ni]` - area of each cell\n",
    "- `dx[nj+1,ni]` - length of the edges of constant j-index\n",
    "- `dy[nj,ni+1]` - length of the edges of constant -index\n",
    "\n",
    "Fig. 3 shows a super grid which overlays the model grid in Figs 1 and 2a with a refinement factor of 2. For orthogonal grids, we can see that the quantities in Fig. 2a can be found by summing pairs of quantities in Fig. 3.\n",
    "\n",
    "Notes:\n",
    "- The data has different shapes depending on location which means that an indexing convention is not needed.\n",
    "- The is no redundant data, except:\n",
    "  - For an x-periodic domain, the `x,y` and $\\Delta y$ data along the left and right edges should be identical data.\n",
    "  - Similar for a y-periodic domain (unusual in global models), the `x,y` and $\\Delta x$ data along the top and bottom edges should be identical data.\n",
    "\n",
    "### Mosaic index relationship to model index\n",
    "\n",
    "The refined resolution of a mosaic with respect to a model grid means one needs to calculate relative indices. Using a **python** index convention that starts at 0, netcdf index-order (j,i) and assuming a refinement factor of 2:\n",
    "\n",
    "- The `x,y` location of `h[j,i]` is at `x[2j+1,2i+1],y[2j+1,2i+1]`\n",
    "  - so that `h[0,0]` is at `x[1,1],y[1,1]`,  `h[0,1]` is at `x[1,3],y[1,3]`, etc.\n",
    "- The `x,y` location of `q[j,i]` is at `x[2j,2i],y[2j,2i]`\n",
    "  - so that `q[0,0]` is at `x[0,0],y[0,0]`,  `q[0,1]` is at `x[0,2],y[0,2]`, etc.\n",
    "- The `x,y` location of `u[j,i]` is at `x[2j+1,2i],y[2j+1,2i]`\n",
    "  - so that `u[0,0]` is at `x[1,0],y[1,0]`,  `u[0,1]` is at `x[1,2],y[1,2]`, etc.\n",
    "- The `x,y` location of `v[j,i]` is at `x[2j,2i+1],y[2j,2i+1]`\n",
    "  - so that `v[0,0]` is at `x[0,1],y[0,1]`,  `v[0,1]` is at `x[0,3],y[0,3]`, etc.\n",
    "- The distance between u-points, centered at `h[j,i]` is `dxh[j,i] = dx[2j+1,2i] + dx[2j+1,2i+1]`\n",
    "- The distance between v-points, centered at `h[j,i]` is `dxh[j,i] = dy[2j,2i+1] + dy[2j+1,2i+1]`\n",
    "- The distance between q-points, centered at `v[j,i]` is `dxCv[j,i] = dx[2j,2i] + dx[2j,2i+1]`\n",
    "- The distance between q-points, centered at `u[j,i]` is `dyCu[j,i] = dy[2j,2i] + dy[2j+1,2i]`\n",
    "- The distance between h-points, centered at `u[j,i]` is `dxCu[j,i] = dx[2j+1,2i-1] + dx[2j+1,2i]`\n",
    "  - (note periodic wrapping of i-index is needed)\n",
    "- The distance between h-points, centered at `v[j,i]` is `dyCv[j,i] = dy[2j-1,2i+1] + dx[2j,2i+1]`\n",
    "  - (note periodic wrapping of j-index is needed)\n",
    "- The distance between v-points, centered at `q[j,i]` is `dxBu[j,i] = dx[2j,2i-1] + dx[2j,2i]`\n",
    "  - (note periodic wrapping of i-index is needed)\n",
    "- The distance between u-points, centered at `q[j,i]` is `dyBu[j,i] = dy[2j-1,2i] + dx[2j,2i]`\n",
    "  - (note periodic wrapping of j-index is needed)\n",
    "- The area of an h-cell, centered at `h[j,i]` is `areah[j,i] = area[2j,2i] + area[2j,2i+1] + area[2j+1,2i] + area[2j+1,2i+1]`\n",
    "- The area of a q-cell, centered at `q[j,i]` is `areaBu[j,i] = area[2j-1,2i-1] + area[2j-1,2i] + area[2j,2i-1] + area[2j,2i]`\n",
    "  - (note periodic wrapping of i- and j-index is needed)\n",
    "- The area of a u-cell, centered at `u[j,i]` is `areaCu[j,i] = area[2j,2i-1] + area[2j,2i] + area[2j+1,2i-1] + area[2j+1,2i]`\n",
    "  - (note periodic wrapping of i-index is needed)\n",
    "- The area of a v-cell, centered at `v[j,i]` is `areaCv[j,i] = area[2j-1,2i] + area[2j-1,2i+1] + area[2j,2i] + area[2j,2i+1]`\n",
    "  - (note periodic wrapping of j-index is needed)"
   ]
  },
  {
   "cell_type": "code",
   "execution_count": null,
   "metadata": {
    "collapsed": false
   },
   "outputs": [],
   "source": [
    "# For the OM4_025 grid (CM4 ocean component)\n",
    "path_to_mosaic_dir = '/archive/gold/datasets/OM4_025/mosaic.v20140610.unpacked/'\n",
    "\n",
    "# T point locations\n",
    "xt = netCDF4.Dataset(path_to_mosaic_dir+'/ocean_hgrid.nc').variables['x'][1::2,1::2]\n",
    "yt = netCDF4.Dataset(path_to_mosaic_dir+'/ocean_hgrid.nc').variables['y'][1::2,1::2]\n",
    "\n",
    "# Corner point locations\n",
    "xq = netCDF4.Dataset(path_to_mosaic_dir+'/ocean_hgrid.nc').variables['x'][::2,::2]\n",
    "yq = netCDF4.Dataset(path_to_mosaic_dir+'/ocean_hgrid.nc').variables['y'][::2,::2]\n",
    "\n",
    "# U point locations\n",
    "xu = netCDF4.Dataset(path_to_mosaic_dir+'/ocean_hgrid.nc').variables['x'][1::2,::2]\n",
    "yu= netCDF4.Dataset(path_to_mosaic_dir+'/ocean_hgrid.nc').variables['y'][1::2,::2]\n",
    "\n",
    "# V point locations\n",
    "xv = netCDF4.Dataset(path_to_mosaic_dir+'/ocean_hgrid.nc').variables['x'][::2,1::2]\n",
    "yv= netCDF4.Dataset(path_to_mosaic_dir+'/ocean_hgrid.nc').variables['y'][::2,1::2]\n",
    "\n",
    "# Wet/dry mask\n",
    "wet = netCDF4.Dataset(path_to_mosaic_dir+'/ocean_mask.nc').variables['mask'][:,:]\n",
    "\n",
    "# Super grid data\n",
    "area = netCDF4.Dataset(path_to_mosaic_dir+'/ocean_hgrid.nc').variables['area'][:,:]\n",
    "dx = netCDF4.Dataset(path_to_mosaic_dir+'/ocean_hgrid.nc').variables['dx'][:,:]\n",
    "dy = netCDF4.Dataset(path_to_mosaic_dir+'/ocean_hgrid.nc').variables['dy'][:,:]\n",
    "\n",
    "# T cell area (sum of four supergrid cells)\n",
    "areat = ( ( area[::2,::2] + area[1::2,1::2] ) + ( area[::2,1::2] + area[::2,1::2] ) )*wet\n",
    "\n",
    "# x-distance between U points\n",
    "dxh = dx[1::2,::2] + dx[1::2,1::2]\n",
    "\n",
    "# x-distance between corner points\n",
    "dxCv = dx[2::2,::2] + dx[2::2,1::2]\n",
    "\n",
    "# x-distance between T points\n",
    "dxCu = dx[1::2,::2]\n",
    "dxCu = dxCu + numpy.roll( dx[1::2,:-1:2], -1, axis=-1 )\n",
    "\n",
    "# x-distance between V points\n",
    "dxBu = dx[2::2,1::2]\n",
    "dxBu = dxBu + numpy.roll( dx[2::2,::2], -1, axis=-1 )"
   ]
  },
  {
   "cell_type": "code",
   "execution_count": null,
   "metadata": {
    "collapsed": false
   },
   "outputs": [],
   "source": [
    "whos"
   ]
  },
  {
   "cell_type": "code",
   "execution_count": null,
   "metadata": {
    "collapsed": true
   },
   "outputs": [],
   "source": []
  }
 ],
 "metadata": {
  "kernelspec": {
   "display_name": "Python 3",
   "language": "python",
   "name": "python3"
  },
  "language_info": {
   "codemirror_mode": {
    "name": "ipython",
    "version": 3
   },
   "file_extension": ".py",
   "mimetype": "text/x-python",
   "name": "python",
   "nbconvert_exporter": "python",
   "pygments_lexer": "ipython3",
   "version": "3.4.3"
  }
 },
 "nbformat": 4,
 "nbformat_minor": 0
}
